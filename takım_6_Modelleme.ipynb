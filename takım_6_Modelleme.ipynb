{
  "nbformat": 4,
  "nbformat_minor": 0,
  "metadata": {
    "colab": {
      "provenance": [],
      "collapsed_sections": []
    },
    "kernelspec": {
      "name": "python3",
      "display_name": "Python 3"
    },
    "language_info": {
      "name": "python"
    },
    "accelerator": "GPU"
  },
  "cells": [
    {
      "cell_type": "markdown",
      "source": [
        "Google Drive üzerinden bizlerle paylaşılan 'spectrograms' isimli klasördeki verileri colab'da kullanmak için aşağıdaki kodu çalıştırabiliriz.\n",
        "Kodun herkes için doğru çalışması amacıyla bizlerle paylaşılan klasör için MyDrive veya Drive'ım altında (Kendi Google Drive'ınızda) bir kısayol oluşturulması lazım. \n",
        "* verilen linke tıkla https://drive.google.com/drive/folders/1xey3vAVNDjWxnSfhuUsf_5dGANZWmCog?usp=sharing\n",
        "* add shortcut diyerek paylaşılan klasör için MyDrive(Drive'ım) altında bir shortcut oluştur (adını 'spectrograms' olarak gir).\n",
        "* aşağıdaki kodu çalıştır ve ilgili erişim izinlerini ver:"
      ],
      "metadata": {
        "id": "g-2uABkDVOon"
      }
    },
    {
      "cell_type": "markdown",
      "source": [],
      "metadata": {
        "id": "gYveJoIWBo6R"
      }
    },
    {
      "cell_type": "code",
      "source": [
        "from google.colab import drive\n",
        "drive.mount('/content/drive')"
      ],
      "metadata": {
        "id": "ocWtXsDFw2ij",
        "colab": {
          "base_uri": "https://localhost:8080/"
        },
        "outputId": "89f94bdc-8b0a-4393-d803-96ec98801fa2"
      },
      "execution_count": null,
      "outputs": [
        {
          "output_type": "stream",
          "name": "stdout",
          "text": [
            "Drive already mounted at /content/drive; to attempt to forcibly remount, call drive.mount(\"/content/drive\", force_remount=True).\n"
          ]
        }
      ]
    },
    {
      "cell_type": "code",
      "source": [
        "# Create a CNN model. Start with importing required libraries:\n",
        "import tensorflow as tf\n",
        "import pickle\n",
        "\n",
        "# load data\n",
        "X_train = pickle.load(open(\"/content/drive/MyDrive/X_train.pickle\", \"rb\"))\n",
        "y_train = pickle.load(open(\"/content/drive/MyDrive/y_train.pickle\", \"rb\"))\n",
        "\n",
        "X_test = pickle.load(open(\"/content/drive/MyDrive/X_test.pickle\", \"rb\"))\n",
        "y_test = pickle.load(open(\"/content/drive/MyDrive/y_test.pickle\", \"rb\"))\n",
        "\n",
        "X_val = pickle.load(open(\"/content/drive/MyDrive/X_val.pickle\", \"rb\"))\n",
        "y_val = pickle.load(open(\"/content/drive/MyDrive/y_val.pickle\", \"rb\"))\n",
        "\n",
        "# X_train = X_train[:6000]\n",
        "# y_train = y_train[:6000]\n",
        "\n",
        "print(X_train[0])\n",
        "print(X_val[0])\n",
        "print(y_train[0])\n"
      ],
      "metadata": {
        "colab": {
          "base_uri": "https://localhost:8080/"
        },
        "id": "hKdTCxSnUI6c",
        "outputId": "e57eb850-ff9d-4232-88da-b43c45050dd8"
      },
      "execution_count": null,
      "outputs": [
        {
          "output_type": "stream",
          "name": "stdout",
          "text": [
            "[[[1.        ]\n",
            "  [1.        ]\n",
            "  [0.45882353]\n",
            "  ...\n",
            "  [0.        ]\n",
            "  [0.        ]\n",
            "  [0.        ]]\n",
            "\n",
            " [[0.        ]\n",
            "  [0.        ]\n",
            "  [0.        ]\n",
            "  ...\n",
            "  [0.        ]\n",
            "  [0.        ]\n",
            "  [0.        ]]\n",
            "\n",
            " [[0.        ]\n",
            "  [0.        ]\n",
            "  [0.        ]\n",
            "  ...\n",
            "  [0.        ]\n",
            "  [0.        ]\n",
            "  [0.        ]]\n",
            "\n",
            " ...\n",
            "\n",
            " [[0.12156863]\n",
            "  [0.12156863]\n",
            "  [0.12156863]\n",
            "  ...\n",
            "  [0.97254902]\n",
            "  [0.97254902]\n",
            "  [0.97254902]]\n",
            "\n",
            " [[0.97254902]\n",
            "  [0.97254902]\n",
            "  [0.97254902]\n",
            "  ...\n",
            "  [1.        ]\n",
            "  [1.        ]\n",
            "  [1.        ]]\n",
            "\n",
            " [[1.        ]\n",
            "  [1.        ]\n",
            "  [1.        ]\n",
            "  ...\n",
            "  [1.        ]\n",
            "  [1.        ]\n",
            "  [1.        ]]]\n",
            "[[[1.        ]\n",
            "  [1.        ]\n",
            "  [0.45882353]\n",
            "  ...\n",
            "  [0.        ]\n",
            "  [0.        ]\n",
            "  [0.        ]]\n",
            "\n",
            " [[0.        ]\n",
            "  [0.        ]\n",
            "  [0.        ]\n",
            "  ...\n",
            "  [0.        ]\n",
            "  [0.        ]\n",
            "  [0.        ]]\n",
            "\n",
            " [[0.        ]\n",
            "  [0.        ]\n",
            "  [0.        ]\n",
            "  ...\n",
            "  [0.        ]\n",
            "  [0.        ]\n",
            "  [0.        ]]\n",
            "\n",
            " ...\n",
            "\n",
            " [[0.2627451 ]\n",
            "  [0.25098039]\n",
            "  [0.25490196]\n",
            "  ...\n",
            "  [0.97254902]\n",
            "  [0.97254902]\n",
            "  [0.97254902]]\n",
            "\n",
            " [[0.97254902]\n",
            "  [0.97254902]\n",
            "  [0.97254902]\n",
            "  ...\n",
            "  [1.        ]\n",
            "  [1.        ]\n",
            "  [1.        ]]\n",
            "\n",
            " [[1.        ]\n",
            "  [1.        ]\n",
            "  [1.        ]\n",
            "  ...\n",
            "  [1.        ]\n",
            "  [1.        ]\n",
            "  [1.        ]]]\n",
            "4\n"
          ]
        }
      ]
    },
    {
      "cell_type": "code",
      "source": [
        "# create a model object:\n",
        "model = tf.keras.Sequential()"
      ],
      "metadata": {
        "id": "J95kczwAPpIz"
      },
      "execution_count": null,
      "outputs": []
    },
    {
      "cell_type": "code",
      "source": [
        "# Add a convolution and max pooling layer:\n",
        "model.add(tf.keras.layers.Conv2D(64,\n",
        "                                kernel_size=(3,3),\n",
        "                                strides=(1,1),\n",
        "                                padding=\"same\",\n",
        "                                activation=\"relu\",# activation functions are hyper-parameters. So, we use any of them working better for us.\n",
        "                                input_shape=X_train.shape[1:])) \n",
        "\n",
        "model.add(tf.keras.layers.MaxPooling2D(2,2))"
      ],
      "metadata": {
        "id": "scoS53NlPr-L"
      },
      "execution_count": null,
      "outputs": []
    },
    {
      "cell_type": "code",
      "source": [
        "# Add more convolution and max pooling layers\n",
        "model.add(tf.keras.layers.Conv2D(64, # 64 is choosen randomly, can be adjusted later\n",
        "                                 kernel_size=(3,3),\n",
        "                                 strides=(1,1),\n",
        "                                 padding=\"same\",\n",
        "                                 activation=\"relu\"))\n",
        "\n",
        "model.add(tf.keras.layers.MaxPooling2D(2,2))\n",
        "\n",
        "model.add(tf.keras.layers.Conv2D(64, # 64 is choosen randomly, can be adjusted later\n",
        "                                 kernel_size=(3,3),\n",
        "                                 strides=(1,1),\n",
        "                                 padding=\"same\",\n",
        "                                 activation=\"relu\"))\n",
        "\n",
        "model.add(tf.keras.layers.MaxPooling2D(2,2))\n",
        "\n",
        "model.add(tf.keras.layers.Conv2D(64, # 64 is choosen randomly, can be adjusted later\n",
        "                                 kernel_size=(3,3),\n",
        "                                 strides=(1,1),\n",
        "                                 padding=\"same\",\n",
        "                                 activation=\"relu\"))\n",
        "\n"
      ],
      "metadata": {
        "id": "QHoej1jgPvAl"
      },
      "execution_count": null,
      "outputs": []
    },
    {
      "cell_type": "code",
      "source": [
        "# Flatten the convolution layer\n",
        "model.add(tf.keras.layers.Flatten())"
      ],
      "metadata": {
        "id": "4XzC3jw2PxX4"
      },
      "execution_count": null,
      "outputs": []
    },
    {
      "cell_type": "code",
      "source": [
        "#  Add the dense layer and dropout layer\n",
        "model.add(tf.keras.layers.Dense(64, activation=\"relu\"))\n",
        "model.add(tf.keras.layers.Dropout(0.5))\n",
        "\n",
        "# Add the dense layer and dropout layer\n",
        "model.add(tf.keras.layers.Dense(64, activation=\"relu\"))\n",
        "model.add(tf.keras.layers.Dropout(0.5))"
      ],
      "metadata": {
        "id": "Wr5ijlAhPz3M"
      },
      "execution_count": null,
      "outputs": []
    },
    {
      "cell_type": "code",
      "source": [
        "# Add the output layer\n",
        "model.add(tf.keras.layers.Dense(10, activation=\"softmax\")) # softmax is used for multi-class classification"
      ],
      "metadata": {
        "id": "xO3mWUtUP4XU"
      },
      "execution_count": null,
      "outputs": []
    },
    {
      "cell_type": "code",
      "source": [
        "# Compile the model\n",
        "model.compile(optimizer=\"adam\",\n",
        "              loss=\"sparse_categorical_crossentropy\",\n",
        "              metrics=[\"accuracy\"])"
      ],
      "metadata": {
        "id": "GUELEGe-P6sj"
      },
      "execution_count": null,
      "outputs": []
    },
    {
      "cell_type": "code",
      "source": [
        "\n",
        "# Train the model for 50 epochs with batch size of 128\n",
        "# mini bathing??\n",
        "# choose a power of two as batch size for computation ease\n",
        "\n",
        "results = model.fit(X_train, y_train,\n",
        "                    batch_size=250,\n",
        "                    epochs=50,\n",
        "                    validation_data=(X_val, y_val),\n",
        "                    )\n",
        "\n"
      ],
      "metadata": {
        "colab": {
          "base_uri": "https://localhost:8080/"
        },
        "id": "cvp4FOKqP9Uq",
        "outputId": "a3ab1912-f520-4975-9458-c0544785e083"
      },
      "execution_count": null,
      "outputs": [
        {
          "output_type": "stream",
          "name": "stdout",
          "text": [
            "Epoch 1/50\n",
            "14/14 [==============================] - 18s 1s/step - loss: 2.1279 - accuracy: 0.1973 - val_loss: 1.9340 - val_accuracy: 0.3424\n",
            "Epoch 2/50\n",
            "14/14 [==============================] - 10s 700ms/step - loss: 2.0256 - accuracy: 0.2514 - val_loss: 1.7621 - val_accuracy: 0.3752\n",
            "Epoch 3/50\n",
            "14/14 [==============================] - 10s 705ms/step - loss: 1.9287 - accuracy: 0.2812 - val_loss: 1.6752 - val_accuracy: 0.4153\n",
            "Epoch 4/50\n",
            "14/14 [==============================] - 10s 694ms/step - loss: 1.8451 - accuracy: 0.3313 - val_loss: 1.5631 - val_accuracy: 0.4679\n",
            "Epoch 5/50\n",
            "14/14 [==============================] - 9s 690ms/step - loss: 1.7906 - accuracy: 0.3462 - val_loss: 1.5071 - val_accuracy: 0.4912\n",
            "Epoch 6/50\n",
            "14/14 [==============================] - 9s 686ms/step - loss: 1.7157 - accuracy: 0.3771 - val_loss: 1.4177 - val_accuracy: 0.5477\n",
            "Epoch 7/50\n",
            "14/14 [==============================] - 9s 685ms/step - loss: 1.6340 - accuracy: 0.4015 - val_loss: 1.3422 - val_accuracy: 0.5760\n",
            "Epoch 8/50\n",
            "14/14 [==============================] - 9s 686ms/step - loss: 1.5521 - accuracy: 0.4304 - val_loss: 1.1999 - val_accuracy: 0.6527\n",
            "Epoch 9/50\n",
            "14/14 [==============================] - 9s 687ms/step - loss: 1.4981 - accuracy: 0.4559 - val_loss: 1.1554 - val_accuracy: 0.6676\n",
            "Epoch 10/50\n",
            "14/14 [==============================] - 9s 689ms/step - loss: 1.4581 - accuracy: 0.4851 - val_loss: 1.1019 - val_accuracy: 0.6603\n",
            "Epoch 11/50\n",
            "14/14 [==============================] - 10s 692ms/step - loss: 1.3826 - accuracy: 0.5069 - val_loss: 1.0357 - val_accuracy: 0.6962\n",
            "Epoch 12/50\n",
            "14/14 [==============================] - 9s 691ms/step - loss: 1.3231 - accuracy: 0.5186 - val_loss: 1.0259 - val_accuracy: 0.6989\n",
            "Epoch 13/50\n",
            "14/14 [==============================] - 10s 694ms/step - loss: 1.2336 - accuracy: 0.5484 - val_loss: 0.9116 - val_accuracy: 0.7198\n",
            "Epoch 14/50\n",
            "14/14 [==============================] - 10s 691ms/step - loss: 1.2228 - accuracy: 0.5641 - val_loss: 0.9153 - val_accuracy: 0.7469\n",
            "Epoch 15/50\n",
            "14/14 [==============================] - 9s 689ms/step - loss: 1.1468 - accuracy: 0.5822 - val_loss: 0.8652 - val_accuracy: 0.7447\n",
            "Epoch 16/50\n",
            "14/14 [==============================] - 9s 688ms/step - loss: 1.1277 - accuracy: 0.5954 - val_loss: 0.8688 - val_accuracy: 0.7504\n",
            "Epoch 17/50\n",
            "14/14 [==============================] - 9s 688ms/step - loss: 1.0689 - accuracy: 0.6097 - val_loss: 0.8633 - val_accuracy: 0.7389\n",
            "Epoch 18/50\n",
            "14/14 [==============================] - 9s 688ms/step - loss: 1.0468 - accuracy: 0.6223 - val_loss: 0.7919 - val_accuracy: 0.7691\n",
            "Epoch 19/50\n",
            "14/14 [==============================] - 9s 686ms/step - loss: 1.0028 - accuracy: 0.6403 - val_loss: 0.7508 - val_accuracy: 0.7771\n",
            "Epoch 20/50\n",
            "14/14 [==============================] - 9s 689ms/step - loss: 0.9722 - accuracy: 0.6409 - val_loss: 0.7494 - val_accuracy: 0.7771\n",
            "Epoch 21/50\n",
            "14/14 [==============================] - 9s 688ms/step - loss: 0.9153 - accuracy: 0.6744 - val_loss: 0.7651 - val_accuracy: 0.7920\n",
            "Epoch 22/50\n",
            "14/14 [==============================] - 9s 689ms/step - loss: 0.8959 - accuracy: 0.6796 - val_loss: 0.7090 - val_accuracy: 0.7897\n",
            "Epoch 23/50\n",
            "14/14 [==============================] - 9s 690ms/step - loss: 0.8787 - accuracy: 0.6735 - val_loss: 0.6967 - val_accuracy: 0.8034\n",
            "Epoch 24/50\n",
            "14/14 [==============================] - 9s 690ms/step - loss: 0.8531 - accuracy: 0.6890 - val_loss: 0.7251 - val_accuracy: 0.8004\n",
            "Epoch 25/50\n",
            "14/14 [==============================] - 9s 687ms/step - loss: 0.8389 - accuracy: 0.6887 - val_loss: 0.6665 - val_accuracy: 0.8214\n",
            "Epoch 26/50\n",
            "14/14 [==============================] - 9s 689ms/step - loss: 0.7853 - accuracy: 0.7105 - val_loss: 0.6579 - val_accuracy: 0.8122\n",
            "Epoch 27/50\n",
            "14/14 [==============================] - 9s 688ms/step - loss: 0.7594 - accuracy: 0.7122 - val_loss: 0.6462 - val_accuracy: 0.8244\n",
            "Epoch 28/50\n",
            "14/14 [==============================] - 9s 689ms/step - loss: 0.7165 - accuracy: 0.7291 - val_loss: 0.6353 - val_accuracy: 0.8248\n",
            "Epoch 29/50\n",
            "14/14 [==============================] - 9s 691ms/step - loss: 0.6923 - accuracy: 0.7363 - val_loss: 0.6507 - val_accuracy: 0.8263\n",
            "Epoch 30/50\n",
            "14/14 [==============================] - 9s 689ms/step - loss: 0.6989 - accuracy: 0.7340 - val_loss: 0.6739 - val_accuracy: 0.8202\n",
            "Epoch 31/50\n",
            "14/14 [==============================] - 9s 689ms/step - loss: 0.6857 - accuracy: 0.7423 - val_loss: 0.6436 - val_accuracy: 0.8260\n",
            "Epoch 32/50\n",
            "14/14 [==============================] - 9s 689ms/step - loss: 0.6456 - accuracy: 0.7514 - val_loss: 0.6438 - val_accuracy: 0.8263\n",
            "Epoch 33/50\n",
            "14/14 [==============================] - 9s 688ms/step - loss: 0.6273 - accuracy: 0.7652 - val_loss: 0.6755 - val_accuracy: 0.8145\n",
            "Epoch 34/50\n",
            "14/14 [==============================] - 9s 688ms/step - loss: 0.6412 - accuracy: 0.7589 - val_loss: 0.6430 - val_accuracy: 0.8233\n",
            "Epoch 35/50\n",
            "14/14 [==============================] - 9s 688ms/step - loss: 0.6120 - accuracy: 0.7652 - val_loss: 0.6686 - val_accuracy: 0.8263\n",
            "Epoch 36/50\n",
            "14/14 [==============================] - 9s 690ms/step - loss: 0.6083 - accuracy: 0.7620 - val_loss: 0.6393 - val_accuracy: 0.8286\n",
            "Epoch 37/50\n",
            "14/14 [==============================] - 9s 689ms/step - loss: 0.6149 - accuracy: 0.7615 - val_loss: 0.6202 - val_accuracy: 0.8397\n",
            "Epoch 38/50\n",
            "14/14 [==============================] - 9s 689ms/step - loss: 0.5776 - accuracy: 0.7775 - val_loss: 0.6982 - val_accuracy: 0.8252\n",
            "Epoch 39/50\n",
            "14/14 [==============================] - 9s 690ms/step - loss: 0.5827 - accuracy: 0.7763 - val_loss: 0.6113 - val_accuracy: 0.8424\n",
            "Epoch 40/50\n",
            "14/14 [==============================] - 9s 690ms/step - loss: 0.5557 - accuracy: 0.7795 - val_loss: 0.6927 - val_accuracy: 0.8160\n",
            "Epoch 41/50\n",
            "14/14 [==============================] - 9s 689ms/step - loss: 0.5676 - accuracy: 0.7855 - val_loss: 0.6251 - val_accuracy: 0.8336\n",
            "Epoch 42/50\n",
            "14/14 [==============================] - 9s 689ms/step - loss: 0.5589 - accuracy: 0.7855 - val_loss: 0.6529 - val_accuracy: 0.8401\n",
            "Epoch 43/50\n",
            "14/14 [==============================] - 9s 689ms/step - loss: 0.5176 - accuracy: 0.7964 - val_loss: 0.6131 - val_accuracy: 0.8405\n",
            "Epoch 44/50\n",
            "14/14 [==============================] - 9s 690ms/step - loss: 0.5475 - accuracy: 0.7898 - val_loss: 0.6235 - val_accuracy: 0.8469\n",
            "Epoch 45/50\n",
            "14/14 [==============================] - 9s 690ms/step - loss: 0.4807 - accuracy: 0.8156 - val_loss: 0.6557 - val_accuracy: 0.8385\n",
            "Epoch 46/50\n",
            "14/14 [==============================] - 9s 691ms/step - loss: 0.4753 - accuracy: 0.8187 - val_loss: 0.6888 - val_accuracy: 0.8443\n",
            "Epoch 47/50\n",
            "14/14 [==============================] - 9s 690ms/step - loss: 0.4730 - accuracy: 0.8199 - val_loss: 0.6259 - val_accuracy: 0.8504\n",
            "Epoch 48/50\n",
            "14/14 [==============================] - 9s 689ms/step - loss: 0.4988 - accuracy: 0.8058 - val_loss: 0.6286 - val_accuracy: 0.8412\n",
            "Epoch 49/50\n",
            "14/14 [==============================] - 9s 689ms/step - loss: 0.4866 - accuracy: 0.8147 - val_loss: 0.6291 - val_accuracy: 0.8489\n",
            "Epoch 50/50\n",
            "14/14 [==============================] - 10s 699ms/step - loss: 0.4592 - accuracy: 0.8276 - val_loss: 0.6419 - val_accuracy: 0.8489\n"
          ]
        }
      ]
    },
    {
      "cell_type": "code",
      "source": [
        "# gerekli kütüphaneleri import et\n",
        "import matplotlib.pyplot as plt"
      ],
      "metadata": {
        "id": "8OCe1JOj4J6A"
      },
      "execution_count": null,
      "outputs": []
    },
    {
      "cell_type": "code",
      "source": [
        "\n",
        "# Plot the the training loss\n",
        "plt.plot(results.history[\"loss\"], label=\"loss\")\n",
        "\n",
        "# Plot the the validation loss\n",
        "plt.plot(results.history[\"val_loss\"], label=\"val_loss\")\n",
        "\n",
        "# Name the x and y axises\n",
        "plt.xlabel(\"Epoch\")\n",
        "plt.xlabel(\"Loss\")\n",
        "\n",
        "# Put legend table\n",
        "plt.legend()\n",
        "\n",
        "# Show the plot\n",
        "plt.show()"
      ],
      "metadata": {
        "id": "3P5u6DniQAtF",
        "colab": {
          "base_uri": "https://localhost:8080/",
          "height": 279
        },
        "outputId": "d0f80019-553c-4ec1-cb34-ed3e14850b4f"
      },
      "execution_count": null,
      "outputs": [
        {
          "output_type": "display_data",
          "data": {
            "text/plain": [
              "<Figure size 432x288 with 1 Axes>"
            ],
            "image/png": "[encoded data removed]"
          },
          "metadata": {
            "needs_background": "light"
          }
        }
      ]
    },
    {
      "cell_type": "code",
      "source": [
        "# Plot the the training accuracy\n",
        "plt.plot(results.history[\"accuracy\"], label=\"accuracy\")\n",
        "\n",
        "# Plot the the validation accuracy\n",
        "plt.plot(results.history[\"val_accuracy\"], label=\"val_accuracy\")\n",
        "\n",
        "# Name the x and y axises\n",
        "plt.xlabel(\"Epoch\")\n",
        "plt.xlabel(\"Accuracy\")\n",
        "\n",
        "# Put legend table\n",
        "plt.legend()\n",
        "\n",
        "# Show the plot\n",
        "plt.show()"
      ],
      "metadata": {
        "id": "Sb8WFFXnQBns",
        "colab": {
          "base_uri": "https://localhost:8080/",
          "height": 279
        },
        "outputId": "0797d5b2-6121-4667-c46e-9b2daeba8143"
      },
      "execution_count": null,
      "outputs": [
        {
          "output_type": "display_data",
          "data": {
            "text/plain": [
              "<Figure size 432x288 with 1 Axes>"
            ],
            "image/png": "[encoded data removed]"
          },
          "metadata": {
            "needs_background": "light"
          }
        }
      ]
    },
    {
      "cell_type": "code",
      "source": [
        "# Evaluate the performance\n",
        "model.evaluate(X_test, y_test)"
      ],
      "metadata": {
        "id": "lSbZ_PnWQD3s",
        "colab": {
          "base_uri": "https://localhost:8080/"
        },
        "outputId": "4fe86b63-b8b9-41f8-8cfc-3e3e8c62f1cf"
      },
      "execution_count": null,
      "outputs": [
        {
          "output_type": "stream",
          "name": "stdout",
          "text": [
            "82/82 [==============================] - 2s 29ms/step - loss: 0.6783 - accuracy: 0.8504\n"
          ]
        },
        {
          "output_type": "execute_result",
          "data": {
            "text/plain": [
              "[0.6783308982849121, 0.8503816723823547]"
            ]
          },
          "metadata": {},
          "execution_count": 52
        }
      ]
    },
    {
      "cell_type": "code",
      "source": [
        "# Make prediction on the reshaped sample\n",
        "prediction_result = model.predict(X_train[0].reshape(1, 250, 187, 1))\n",
        "\n",
        "# Print the prediction result\n",
        "prediction_result"
      ],
      "metadata": {
        "id": "VfzqGcO0QGKT",
        "colab": {
          "base_uri": "https://localhost:8080/"
        },
        "outputId": "1a5681b3-70b8-4c7f-b7d3-f13e34696bdd"
      },
      "execution_count": null,
      "outputs": [
        {
          "output_type": "execute_result",
          "data": {
            "text/plain": [
              "array([[3.34354900e-06, 2.11246046e-07, 8.88318209e-06, 9.21222745e-05,\n",
              "        9.86025035e-01, 8.80516018e-05, 2.50465632e-06, 1.34947905e-02,\n",
              "        2.27764730e-07, 2.84825597e-04]], dtype=float32)"
            ]
          },
          "metadata": {},
          "execution_count": 53
        }
      ]
    },
    {
      "cell_type": "code",
      "source": [
        "# Find the predicted class\n",
        "predicted_class = prediction_result.argmax() # integer\n",
        "# Find the prediction probability\n",
        "predicted_probability = prediction_result.max()"
      ],
      "metadata": {
        "id": "A8Ii88qbQIeO"
      },
      "execution_count": null,
      "outputs": []
    },
    {
      "cell_type": "code",
      "source": [
        "# to see the category name\n",
        "CATEGORIES = { 0 : \"air_conditioner\" ,\n",
        "               1 : \"car_horn\",\n",
        "               2 : \"children_playing\",\n",
        "               3 : \"dog_bark\" ,\n",
        "               4 : \"drilling\" ,\n",
        "               5 : \"engine_idling\" ,\n",
        "               6 : \"gun_shot\" ,\n",
        "               7 : \"jackhammer\" ,\n",
        "               8 : \"siren\",\n",
        "               9 : \"street_music\" }\n",
        "\n",
        "predicted_class = CATEGORIES[predicted_class] # now it is string"
      ],
      "metadata": {
        "id": "T5X8UeAD405J"
      },
      "execution_count": null,
      "outputs": []
    },
    {
      "cell_type": "code",
      "source": [
        "# Print the results\n",
        "print(f\"This image belongs to the class of '{predicted_class}' with {predicted_probability} probability %\")"
      ],
      "metadata": {
        "id": "PXqvpXyuQSYd",
        "colab": {
          "base_uri": "https://localhost:8080/"
        },
        "outputId": "e32ca5c0-57cc-4ebe-adf7-63c09f378bf8"
      },
      "execution_count": null,
      "outputs": [
        {
          "output_type": "stream",
          "name": "stdout",
          "text": [
            "This image belongs to the class of 'drilling' with 0.9860250353813171 probability %\n"
          ]
        }
      ]
    },
    {
      "cell_type": "markdown",
      "source": [],
      "metadata": {
        "id": "VMMV6cwy5ooz"
      }
    }
  ]
}