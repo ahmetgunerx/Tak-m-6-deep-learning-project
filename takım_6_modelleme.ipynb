{
  "nbformat": 4,
  "nbformat_minor": 0,
  "metadata": {
    "colab": {
      "provenance": [],
      "collapsed_sections": []
    },
    "kernelspec": {
      "name": "python3",
      "display_name": "Python 3"
    },
    "language_info": {
      "name": "python"
    },
    "accelerator": "GPU"
  },
  "cells": [
    {
      "cell_type": "markdown",
      "source": [
        "Google Drive üzerinden bizlerle paylaşılan 'spectrograms' isimli klasördeki verileri colab'da kullanmak için aşağıdaki kodu çalıştırabiliriz.\n",
        "Kodun herkes için doğru çalışması amacıyla bizlerle paylaşılan klasör için MyDrive veya Drive'ım altında (Kendi Google Drive'ınızda) bir kısayol oluşturulması lazım. \n",
        "* verilen linke tıkla https://drive.google.com/drive/folders/1xey3vAVNDjWxnSfhuUsf_5dGANZWmCog?usp=sharing\n",
        "* add shortcut diyerek paylaşılan klasör için MyDrive(Drive'ım) altında bir shortcut oluştur (adını 'spectrograms' olarak gir).\n",
        "* aşağıdaki kodu çalıştır ve ilgili erişim izinlerini ver:"
      ],
      "metadata": {
        "id": "g-2uABkDVOon"
      }
    },
    {
      "cell_type": "markdown",
      "source": [
        "asdasd"
      ],
      "metadata": {
        "id": "12pplvNkAzmp"
      }
    },
    {
      "cell_type": "code",
      "source": [
        "from google.colab import drive\n",
        "drive.mount('/content/drive')"
      ],
      "metadata": {
        "id": "ocWtXsDFw2ij",
        "colab": {
          "base_uri": "https://localhost:8080/"
        },
        "outputId": "e59fd0bc-32e0-4ed1-919c-f78569eb9149"
      },
      "execution_count": null,
      "outputs": [
        {
          "output_type": "stream",
          "name": "stdout",
          "text": [
            "Mounted at /content/drive\n"
          ]
        }
      ]
    },
    {
      "cell_type": "code",
      "source": [
        "# Create a CNN model. Start with importing required libraries:\n",
        "import tensorflow as tf\n",
        "import pickle\n",
        "\n",
        "# load data\n",
        "X_train = pickle.load(open(\"/content/drive/MyDrive/X_train.pickle\", \"rb\"))\n",
        "y_train = pickle.load(open(\"/content/drive/MyDrive/y_train.pickle\", \"rb\"))\n",
        "\n",
        "X_test = pickle.load(open(\"/content/drive/MyDrive/X_test.pickle\", \"rb\"))\n",
        "y_test = pickle.load(open(\"/content/drive/MyDrive/y_test.pickle\", \"rb\"))\n",
        "\n",
        "X_val = pickle.load(open(\"/content/drive/MyDrive/X_val.pickle\", \"rb\"))\n",
        "y_val = pickle.load(open(\"/content/drive/MyDrive/y_val.pickle\", \"rb\"))\n",
        "\n",
        "# X_train = X_train[:6000]\n",
        "# y_train = y_train[:6000]\n",
        "\n",
        "print(X_train[0])\n",
        "print(X_val[0])\n",
        "print(y_train[0])\n"
      ],
      "metadata": {
        "colab": {
          "base_uri": "https://localhost:8080/"
        },
        "id": "hKdTCxSnUI6c",
        "outputId": "b0cbfaff-4f77-4365-9223-c770894b56fe"
      },
      "execution_count": null,
      "outputs": [
        {
          "output_type": "stream",
          "name": "stdout",
          "text": [
            "[[[1.        ]\n",
            "  [1.        ]\n",
            "  [0.45882353]\n",
            "  ...\n",
            "  [0.        ]\n",
            "  [0.        ]\n",
            "  [0.        ]]\n",
            "\n",
            " [[0.        ]\n",
            "  [0.        ]\n",
            "  [0.        ]\n",
            "  ...\n",
            "  [0.        ]\n",
            "  [0.        ]\n",
            "  [0.        ]]\n",
            "\n",
            " [[0.        ]\n",
            "  [0.        ]\n",
            "  [0.        ]\n",
            "  ...\n",
            "  [0.        ]\n",
            "  [0.        ]\n",
            "  [0.        ]]\n",
            "\n",
            " ...\n",
            "\n",
            " [[0.12156863]\n",
            "  [0.12156863]\n",
            "  [0.12156863]\n",
            "  ...\n",
            "  [0.97254902]\n",
            "  [0.97254902]\n",
            "  [0.97254902]]\n",
            "\n",
            " [[0.97254902]\n",
            "  [0.97254902]\n",
            "  [0.97254902]\n",
            "  ...\n",
            "  [1.        ]\n",
            "  [1.        ]\n",
            "  [1.        ]]\n",
            "\n",
            " [[1.        ]\n",
            "  [1.        ]\n",
            "  [1.        ]\n",
            "  ...\n",
            "  [1.        ]\n",
            "  [1.        ]\n",
            "  [1.        ]]]\n",
            "[[[1.        ]\n",
            "  [1.        ]\n",
            "  [0.45882353]\n",
            "  ...\n",
            "  [0.        ]\n",
            "  [0.        ]\n",
            "  [0.        ]]\n",
            "\n",
            " [[0.        ]\n",
            "  [0.        ]\n",
            "  [0.        ]\n",
            "  ...\n",
            "  [0.        ]\n",
            "  [0.        ]\n",
            "  [0.        ]]\n",
            "\n",
            " [[0.        ]\n",
            "  [0.        ]\n",
            "  [0.        ]\n",
            "  ...\n",
            "  [0.        ]\n",
            "  [0.        ]\n",
            "  [0.        ]]\n",
            "\n",
            " ...\n",
            "\n",
            " [[0.2627451 ]\n",
            "  [0.25098039]\n",
            "  [0.25490196]\n",
            "  ...\n",
            "  [0.97254902]\n",
            "  [0.97254902]\n",
            "  [0.97254902]]\n",
            "\n",
            " [[0.97254902]\n",
            "  [0.97254902]\n",
            "  [0.97254902]\n",
            "  ...\n",
            "  [1.        ]\n",
            "  [1.        ]\n",
            "  [1.        ]]\n",
            "\n",
            " [[1.        ]\n",
            "  [1.        ]\n",
            "  [1.        ]\n",
            "  ...\n",
            "  [1.        ]\n",
            "  [1.        ]\n",
            "  [1.        ]]]\n",
            "4\n"
          ]
        }
      ]
    },
    {
      "cell_type": "code",
      "source": [
        "# create a model object:\n",
        "model = tf.keras.Sequential()"
      ],
      "metadata": {
        "id": "J95kczwAPpIz"
      },
      "execution_count": null,
      "outputs": []
    },
    {
      "cell_type": "code",
      "source": [
        "# Add a convolution and max pooling layer:\n",
        "model.add(tf.keras.layers.Conv2D(64,\n",
        "                                kernel_size=(3,3),\n",
        "                                strides=(1,1),\n",
        "                                padding=\"same\",\n",
        "                                activation=\"relu\",# activation functions are hyper-parameters. So, we use any of them working better for us.\n",
        "                                input_shape=X_train.shape[1:])) \n",
        "\n",
        "model.add(tf.keras.layers.MaxPooling2D(2,2))"
      ],
      "metadata": {
        "id": "scoS53NlPr-L"
      },
      "execution_count": null,
      "outputs": []
    },
    {
      "cell_type": "code",
      "source": [
        "# Add more convolution and max pooling layers\n",
        "model.add(tf.keras.layers.Conv2D(128, # 64 is choosen randomly, can be adjusted later\n",
        "                                 kernel_size=(3,3),\n",
        "                                 strides=(1,1),\n",
        "                                 padding=\"same\",\n",
        "                                 activation=\"relu\"))\n",
        "\n",
        "model.add(tf.keras.layers.MaxPooling2D(2,2))\n",
        "\n",
        "model.add(tf.keras.layers.Conv2D(64, # 64 is choosen randomly, can be adjusted later\n",
        "                                 kernel_size=(3,3),\n",
        "                                 strides=(1,1),\n",
        "                                 padding=\"same\",\n",
        "                                 activation=\"relu\"))\n",
        "\n",
        "model.add(tf.keras.layers.MaxPooling2D(2,2))\n",
        "\n",
        "model.add(tf.keras.layers.Conv2D(64, # 64 is choosen randomly, can be adjusted later\n",
        "                                 kernel_size=(3,3),\n",
        "                                 strides=(1,1),\n",
        "                                 padding=\"same\",\n",
        "                                 activation=\"relu\"))\n",
        "\n"
      ],
      "metadata": {
        "id": "QHoej1jgPvAl"
      },
      "execution_count": null,
      "outputs": []
    },
    {
      "cell_type": "code",
      "source": [
        "# Flatten the convolution layer\n",
        "model.add(tf.keras.layers.Flatten())"
      ],
      "metadata": {
        "id": "4XzC3jw2PxX4"
      },
      "execution_count": null,
      "outputs": []
    },
    {
      "cell_type": "code",
      "source": [
        "#  Add the dense layer and dropout layer\n",
        "model.add(tf.keras.layers.Dense(64, activation=\"relu\"))\n",
        "model.add(tf.keras.layers.Dropout(0.5))\n",
        "\n",
        "# Add the dense layer and dropout layer\n",
        "model.add(tf.keras.layers.Dense(64, activation=\"relu\"))\n",
        "model.add(tf.keras.layers.Dropout(0.5))"
      ],
      "metadata": {
        "id": "Wr5ijlAhPz3M"
      },
      "execution_count": null,
      "outputs": []
    },
    {
      "cell_type": "code",
      "source": [
        "# Add the output layer\n",
        "model.add(tf.keras.layers.Dense(10, activation=\"softmax\")) # softmax is used for multi-class classification"
      ],
      "metadata": {
        "id": "xO3mWUtUP4XU"
      },
      "execution_count": null,
      "outputs": []
    },
    {
      "cell_type": "code",
      "source": [
        "# Compile the model\n",
        "model.compile(optimizer=\"adam\",\n",
        "              loss=\"sparse_categorical_crossentropy\",\n",
        "              metrics=[\"accuracy\"])"
      ],
      "metadata": {
        "id": "GUELEGe-P6sj"
      },
      "execution_count": null,
      "outputs": []
    },
    {
      "cell_type": "code",
      "source": [
        "\n",
        "# Train the model for 50 epochs with batch size of 128\n",
        "# mini bathing??\n",
        "# choose a power of two as batch size for computation ease\n",
        "\n",
        "results = model.fit(X_train, y_train,\n",
        "                    batch_size=256,\n",
        "                    epochs=50,\n",
        "                    validation_data=(X_val, y_val),\n",
        "                    )\n",
        "\n"
      ],
      "metadata": {
        "colab": {
          "base_uri": "https://localhost:8080/"
        },
        "id": "cvp4FOKqP9Uq",
        "outputId": "556449cb-dd7c-4541-bf23-eba4d45b5499"
      },
      "execution_count": null,
      "outputs": [
        {
          "output_type": "stream",
          "name": "stdout",
          "text": [
            "Epoch 1/50\n",
            "14/14 [==============================] - 33s 1s/step - loss: 2.2677 - accuracy: 0.1423 - val_loss: 2.1226 - val_accuracy: 0.2981\n",
            "Epoch 2/50\n",
            "14/14 [==============================] - 12s 891ms/step - loss: 2.1364 - accuracy: 0.2176 - val_loss: 1.9127 - val_accuracy: 0.3370\n",
            "Epoch 3/50\n",
            "14/14 [==============================] - 12s 896ms/step - loss: 2.0223 - accuracy: 0.2583 - val_loss: 1.7805 - val_accuracy: 0.3931\n",
            "Epoch 4/50\n",
            "14/14 [==============================] - 12s 902ms/step - loss: 1.9107 - accuracy: 0.3036 - val_loss: 1.7039 - val_accuracy: 0.3866\n",
            "Epoch 5/50\n",
            "14/14 [==============================] - 13s 910ms/step - loss: 1.8352 - accuracy: 0.3299 - val_loss: 1.5467 - val_accuracy: 0.4664\n",
            "Epoch 6/50\n",
            "14/14 [==============================] - 15s 1s/step - loss: 1.7137 - accuracy: 0.3708 - val_loss: 1.4489 - val_accuracy: 0.5420\n",
            "Epoch 7/50\n",
            "14/14 [==============================] - 13s 932ms/step - loss: 1.6571 - accuracy: 0.3978 - val_loss: 1.3492 - val_accuracy: 0.5523\n",
            "Epoch 8/50\n",
            "14/14 [==============================] - 13s 942ms/step - loss: 1.5660 - accuracy: 0.4370 - val_loss: 1.2487 - val_accuracy: 0.5882\n",
            "Epoch 9/50\n",
            "14/14 [==============================] - 13s 935ms/step - loss: 1.4641 - accuracy: 0.4648 - val_loss: 1.2177 - val_accuracy: 0.5977\n",
            "Epoch 10/50\n",
            "14/14 [==============================] - 13s 929ms/step - loss: 1.4121 - accuracy: 0.4874 - val_loss: 1.1433 - val_accuracy: 0.6126\n",
            "Epoch 11/50\n",
            "14/14 [==============================] - 13s 927ms/step - loss: 1.3477 - accuracy: 0.5175 - val_loss: 1.0731 - val_accuracy: 0.6469\n",
            "Epoch 12/50\n",
            "14/14 [==============================] - 13s 924ms/step - loss: 1.3016 - accuracy: 0.5367 - val_loss: 1.0083 - val_accuracy: 0.6714\n",
            "Epoch 13/50\n",
            "14/14 [==============================] - 13s 928ms/step - loss: 1.2175 - accuracy: 0.5756 - val_loss: 0.9552 - val_accuracy: 0.6790\n",
            "Epoch 14/50\n",
            "14/14 [==============================] - 13s 931ms/step - loss: 1.1409 - accuracy: 0.5839 - val_loss: 0.8908 - val_accuracy: 0.7073\n",
            "Epoch 15/50\n",
            "14/14 [==============================] - 13s 934ms/step - loss: 1.0562 - accuracy: 0.6211 - val_loss: 0.8153 - val_accuracy: 0.7626\n",
            "Epoch 16/50\n",
            "14/14 [==============================] - 13s 932ms/step - loss: 0.9930 - accuracy: 0.6601 - val_loss: 0.7471 - val_accuracy: 0.7683\n",
            "Epoch 17/50\n",
            "14/14 [==============================] - 13s 931ms/step - loss: 0.9352 - accuracy: 0.6690 - val_loss: 0.7092 - val_accuracy: 0.7813\n",
            "Epoch 18/50\n",
            "14/14 [==============================] - 13s 931ms/step - loss: 0.9118 - accuracy: 0.6784 - val_loss: 0.7245 - val_accuracy: 0.7824\n",
            "Epoch 19/50\n",
            "14/14 [==============================] - 13s 930ms/step - loss: 0.8439 - accuracy: 0.6942 - val_loss: 0.6608 - val_accuracy: 0.8092\n",
            "Epoch 20/50\n",
            "14/14 [==============================] - 13s 930ms/step - loss: 0.8107 - accuracy: 0.7196 - val_loss: 0.6956 - val_accuracy: 0.7874\n",
            "Epoch 21/50\n",
            "14/14 [==============================] - 13s 931ms/step - loss: 0.7772 - accuracy: 0.7302 - val_loss: 0.7374 - val_accuracy: 0.7844\n",
            "Epoch 22/50\n",
            "14/14 [==============================] - 13s 931ms/step - loss: 0.7488 - accuracy: 0.7365 - val_loss: 0.6519 - val_accuracy: 0.8103\n",
            "Epoch 23/50\n",
            "14/14 [==============================] - 13s 930ms/step - loss: 0.7152 - accuracy: 0.7468 - val_loss: 0.6199 - val_accuracy: 0.8282\n",
            "Epoch 24/50\n",
            "14/14 [==============================] - 13s 930ms/step - loss: 0.7127 - accuracy: 0.7477 - val_loss: 0.6026 - val_accuracy: 0.8237\n",
            "Epoch 25/50\n",
            "14/14 [==============================] - 13s 930ms/step - loss: 0.6843 - accuracy: 0.7569 - val_loss: 0.6134 - val_accuracy: 0.8252\n",
            "Epoch 26/50\n",
            "14/14 [==============================] - 13s 931ms/step - loss: 0.6257 - accuracy: 0.7735 - val_loss: 0.5812 - val_accuracy: 0.8321\n",
            "Epoch 27/50\n",
            "14/14 [==============================] - 13s 931ms/step - loss: 0.6209 - accuracy: 0.7829 - val_loss: 0.6048 - val_accuracy: 0.8309\n",
            "Epoch 28/50\n",
            "14/14 [==============================] - 13s 932ms/step - loss: 0.5824 - accuracy: 0.7918 - val_loss: 0.5769 - val_accuracy: 0.8279\n",
            "Epoch 29/50\n",
            "14/14 [==============================] - 13s 931ms/step - loss: 0.5871 - accuracy: 0.7927 - val_loss: 0.5793 - val_accuracy: 0.8382\n",
            "Epoch 30/50\n",
            "14/14 [==============================] - 13s 932ms/step - loss: 0.5318 - accuracy: 0.8121 - val_loss: 0.5936 - val_accuracy: 0.8397\n",
            "Epoch 31/50\n",
            "14/14 [==============================] - 13s 932ms/step - loss: 0.5635 - accuracy: 0.8036 - val_loss: 0.6114 - val_accuracy: 0.8374\n",
            "Epoch 32/50\n",
            "14/14 [==============================] - 13s 929ms/step - loss: 0.5400 - accuracy: 0.8110 - val_loss: 0.5910 - val_accuracy: 0.8405\n",
            "Epoch 33/50\n",
            "14/14 [==============================] - 13s 933ms/step - loss: 0.5041 - accuracy: 0.8159 - val_loss: 0.5687 - val_accuracy: 0.8454\n",
            "Epoch 34/50\n",
            "14/14 [==============================] - 13s 930ms/step - loss: 0.4696 - accuracy: 0.8305 - val_loss: 0.6070 - val_accuracy: 0.8435\n",
            "Epoch 35/50\n",
            "14/14 [==============================] - 13s 931ms/step - loss: 0.4802 - accuracy: 0.8219 - val_loss: 0.5800 - val_accuracy: 0.8496\n",
            "Epoch 36/50\n",
            "14/14 [==============================] - 13s 930ms/step - loss: 0.4548 - accuracy: 0.8356 - val_loss: 0.5928 - val_accuracy: 0.8458\n",
            "Epoch 37/50\n",
            "14/14 [==============================] - 13s 931ms/step - loss: 0.4153 - accuracy: 0.8571 - val_loss: 0.6178 - val_accuracy: 0.8481\n",
            "Epoch 38/50\n",
            "14/14 [==============================] - 13s 931ms/step - loss: 0.4300 - accuracy: 0.8451 - val_loss: 0.6208 - val_accuracy: 0.8469\n",
            "Epoch 39/50\n",
            "14/14 [==============================] - 13s 932ms/step - loss: 0.4201 - accuracy: 0.8439 - val_loss: 0.5784 - val_accuracy: 0.8531\n",
            "Epoch 40/50\n",
            "14/14 [==============================] - 13s 931ms/step - loss: 0.4368 - accuracy: 0.8451 - val_loss: 0.5887 - val_accuracy: 0.8424\n",
            "Epoch 41/50\n",
            "14/14 [==============================] - 13s 931ms/step - loss: 0.4363 - accuracy: 0.8396 - val_loss: 0.6259 - val_accuracy: 0.8508\n",
            "Epoch 42/50\n",
            "14/14 [==============================] - 13s 931ms/step - loss: 0.4454 - accuracy: 0.8399 - val_loss: 0.5896 - val_accuracy: 0.8473\n",
            "Epoch 43/50\n",
            "14/14 [==============================] - 13s 931ms/step - loss: 0.4041 - accuracy: 0.8557 - val_loss: 0.5866 - val_accuracy: 0.8515\n",
            "Epoch 44/50\n",
            "14/14 [==============================] - 13s 931ms/step - loss: 0.4014 - accuracy: 0.8531 - val_loss: 0.5788 - val_accuracy: 0.8450\n",
            "Epoch 45/50\n",
            "14/14 [==============================] - 13s 931ms/step - loss: 0.3870 - accuracy: 0.8562 - val_loss: 0.6270 - val_accuracy: 0.8504\n",
            "Epoch 46/50\n",
            "14/14 [==============================] - 13s 936ms/step - loss: 0.3655 - accuracy: 0.8657 - val_loss: 0.5861 - val_accuracy: 0.8538\n",
            "Epoch 47/50\n",
            "14/14 [==============================] - 13s 931ms/step - loss: 0.3655 - accuracy: 0.8680 - val_loss: 0.6299 - val_accuracy: 0.8462\n",
            "Epoch 48/50\n",
            "14/14 [==============================] - 13s 931ms/step - loss: 0.3503 - accuracy: 0.8700 - val_loss: 0.6395 - val_accuracy: 0.8500\n",
            "Epoch 49/50\n",
            "14/14 [==============================] - 13s 932ms/step - loss: 0.3531 - accuracy: 0.8800 - val_loss: 0.6404 - val_accuracy: 0.8527\n",
            "Epoch 50/50\n",
            "14/14 [==============================] - 13s 931ms/step - loss: 0.3767 - accuracy: 0.8651 - val_loss: 0.6231 - val_accuracy: 0.8523\n"
          ]
        }
      ]
    },
    {
      "cell_type": "code",
      "source": [
        "# gerekli kütüphaneleri import et\n",
        "import numpy as np\n",
        "import matplotlib.pyplot as plt"
      ],
      "metadata": {
        "id": "8OCe1JOj4J6A"
      },
      "execution_count": null,
      "outputs": []
    },
    {
      "cell_type": "code",
      "source": [
        "\n",
        "# Plot the the training loss\n",
        "plt.plot(results.history[\"loss\"], label=\"loss\")\n",
        "\n",
        "# Plot the the validation loss\n",
        "plt.plot(results.history[\"val_loss\"], label=\"val_loss\")\n",
        "\n",
        "# Name the x and y axises\n",
        "plt.xlabel(\"Epoch\")\n",
        "plt.xlabel(\"Loss\")\n",
        "\n",
        "# Put legend table\n",
        "plt.legend()\n",
        "\n",
        "# Show the plot\n",
        "plt.show()"
      ],
      "metadata": {
        "id": "3P5u6DniQAtF",
        "colab": {
          "base_uri": "https://localhost:8080/",
          "height": 279
        },
        "outputId": "cd51f74d-9a44-49b3-ffba-8ab3ab60cb38"
      },
      "execution_count": null,
      "outputs": [
        {
          "output_type": "display_data",
          "data": {
            "text/plain": [
              "<Figure size 432x288 with 1 Axes>"
            ],
            "image/png": "[encoded data removed]"
          },
          "metadata": {
            "needs_background": "light"
          }
        }
      ]
    },
    {
      "cell_type": "code",
      "source": [
        "# Plot the the training accuracy\n",
        "plt.plot(results.history[\"accuracy\"], label=\"accuracy\")\n",
        "\n",
        "# Plot the the validation accuracy\n",
        "plt.plot(results.history[\"val_accuracy\"], label=\"val_accuracy\")\n",
        "\n",
        "# Name the x and y axises\n",
        "plt.xlabel(\"Epoch\")\n",
        "plt.xlabel(\"Accuracy\")\n",
        "\n",
        "# Put legend table\n",
        "plt.legend()\n",
        "\n",
        "# Show the plot\n",
        "plt.show()"
      ],
      "metadata": {
        "id": "Sb8WFFXnQBns",
        "colab": {
          "base_uri": "https://localhost:8080/",
          "height": 279
        },
        "outputId": "51c9e6b6-a341-45ba-eb4c-5cecdf94cc8c"
      },
      "execution_count": null,
      "outputs": [
        {
          "output_type": "display_data",
          "data": {
            "text/plain": [
              "<Figure size 432x288 with 1 Axes>"
            ],
            "image/png": "[encoded data removed]"
          },
          "metadata": {
            "needs_background": "light"
          }
        }
      ]
    },
    {
      "cell_type": "code",
      "source": [
        "# Evaluate the performance\n",
        "model.evaluate(X_test, y_test)"
      ],
      "metadata": {
        "id": "lSbZ_PnWQD3s",
        "colab": {
          "base_uri": "https://localhost:8080/"
        },
        "outputId": "4ce02cc9-6649-4dae-fcac-81624421ce2a"
      },
      "execution_count": null,
      "outputs": [
        {
          "output_type": "stream",
          "name": "stdout",
          "text": [
            "82/82 [==============================] - 4s 42ms/step - loss: 0.6820 - accuracy: 0.8416\n"
          ]
        },
        {
          "output_type": "execute_result",
          "data": {
            "text/plain": [
              "[0.6820419430732727, 0.8416030406951904]"
            ]
          },
          "metadata": {},
          "execution_count": 14
        }
      ]
    },
    {
      "cell_type": "code",
      "source": [
        "# Make prediction on the reshaped sample\n",
        "prediction_result = model.predict(X_train[0].reshape(1, 250, 187, 1))\n",
        "\n",
        "# Print the prediction result\n",
        "prediction_result"
      ],
      "metadata": {
        "id": "VfzqGcO0QGKT",
        "colab": {
          "base_uri": "https://localhost:8080/"
        },
        "outputId": "1344fb18-9d66-4a03-8ede-9ff4c16b242b"
      },
      "execution_count": null,
      "outputs": [
        {
          "output_type": "execute_result",
          "data": {
            "text/plain": [
              "array([[7.9131196e-06, 6.0633263e-09, 1.3131215e-06, 2.4862116e-05,\n",
              "        9.9429411e-01, 5.2063177e-07, 1.2341166e-06, 5.6645847e-03,\n",
              "        3.5743105e-07, 5.1326037e-06]], dtype=float32)"
            ]
          },
          "metadata": {},
          "execution_count": 15
        }
      ]
    },
    {
      "cell_type": "code",
      "source": [
        "# Find the predicted class\n",
        "predicted_class = prediction_result.argmax() # integer\n",
        "# Find the prediction probability\n",
        "predicted_probability = prediction_result.max()"
      ],
      "metadata": {
        "id": "A8Ii88qbQIeO"
      },
      "execution_count": null,
      "outputs": []
    },
    {
      "cell_type": "code",
      "source": [
        "# to see the category name\n",
        "CATEGORIES = { 0 : \"air_conditioner\" ,\n",
        "               1 : \"car_horn\",\n",
        "               2 : \"children_playing\",\n",
        "               3 : \"dog_bark\" ,\n",
        "               4 : \"drilling\" ,\n",
        "               5 : \"engine_idling\" ,\n",
        "               6 : \"gun_shot\" ,\n",
        "               7 : \"jackhammer\" ,\n",
        "               8 : \"siren\",\n",
        "               9 : \"street_music\" }\n",
        "\n",
        "predicted_class = CATEGORIES[predicted_class] # now it is string"
      ],
      "metadata": {
        "id": "T5X8UeAD405J"
      },
      "execution_count": null,
      "outputs": []
    },
    {
      "cell_type": "code",
      "source": [
        "# Print the results\n",
        "print(f\"This image belongs to the class of '{predicted_class}' with {predicted_probability} probability %\")"
      ],
      "metadata": {
        "id": "PXqvpXyuQSYd",
        "colab": {
          "base_uri": "https://localhost:8080/"
        },
        "outputId": "ed39139a-aa7d-4219-abc6-421e1d54c6cd"
      },
      "execution_count": null,
      "outputs": [
        {
          "output_type": "stream",
          "name": "stdout",
          "text": [
            "This image belongs to the class of 'drilling' with 0.9942941069602966 probability %\n"
          ]
        }
      ]
    },
    {
      "cell_type": "markdown",
      "source": [],
      "metadata": {
        "id": "VMMV6cwy5ooz"
      }
    }
  ]
}